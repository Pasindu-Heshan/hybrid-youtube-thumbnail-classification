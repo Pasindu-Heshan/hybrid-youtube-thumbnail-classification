{
 "cells": [
  {
   "cell_type": "code",
   "execution_count": null,
   "id": "3d958d1a",
   "metadata": {},
   "outputs": [],
   "source": [
    "from keras.models import load_model\n",
    "import cv2\n",
    "import tensorflow as tf\n",
    "import os\n",
    "import numpy as np\n",
    "from flask import Flask, request, jsonify\n",
    "from flask_cors import CORS\n",
    "from PIL import Image\n",
    "from tensorflow.keras.preprocessing import image\n",
    "\n",
    "# Initialize Flask application\n",
    "app = Flask(__name__)\n",
    "CORS(app, origins='http://127.0.0.1:5500')\n",
    "\n",
    "# Load models\n",
    "model = tf.keras.models.load_model(os.path.join('models','model_hybrid_model_mark04.h5'))\n",
    "\n",
    "ALLOWED_EXTENSIONS = {'png', 'jpg', 'jpeg'}\n",
    "\n",
    "def allowed_file(filename):\n",
    "    return '.' in filename and \\\n",
    "           filename.rsplit('.', 1)[1].lower() in ALLOWED_EXTENSIONS\n",
    "\n",
    "@app.route('/rate', methods=['POST'])\n",
    "def detect():\n",
    "    # Get image from request\n",
    "    img_file = request.files['image']\n",
    "    if img_file and allowed_file(img_file.filename):\n",
    "        img = Image.open(img_file.stream)\n",
    "        if img.format == 'PNG':\n",
    "            img = img.convert('RGB')\n",
    "        img = image.img_to_array(img)\n",
    "\n",
    "        resize = tf.image.resize(img, (90,120))\n",
    "        result_array = model.predict(np.expand_dims(resize/255, 0))\n",
    "        result_value = result_array[0][0] * 100\n",
    "\n",
    "        print(\"Prediction: {:.2f}%\".format(result_value))\n",
    "        response = {\"prediction\": \"{:.2f}%\".format(result_value)}\n",
    "        \n",
    "        return jsonify(response)\n",
    "    else:\n",
    "        return jsonify({\"error\": \"Invalid file type\"}), 400\n",
    "\n",
    "if __name__ == '__main__':\n",
    "    app.run(port=5062)\n"
   ]
  },
  {
   "cell_type": "code",
   "execution_count": null,
   "id": "29703b61",
   "metadata": {},
   "outputs": [],
   "source": []
  }
 ],
 "metadata": {
  "kernelspec": {
   "display_name": "Python 3 (ipykernel)",
   "language": "python",
   "name": "python3"
  },
  "language_info": {
   "codemirror_mode": {
    "name": "ipython",
    "version": 3
   },
   "file_extension": ".py",
   "mimetype": "text/x-python",
   "name": "python",
   "nbconvert_exporter": "python",
   "pygments_lexer": "ipython3",
   "version": "3.10.7"
  }
 },
 "nbformat": 4,
 "nbformat_minor": 5
}
